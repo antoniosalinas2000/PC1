{
  "nbformat": 4,
  "nbformat_minor": 0,
  "metadata": {
    "colab": {
      "provenance": [],
      "collapsed_sections": []
    },
    "kernelspec": {
      "name": "python3",
      "display_name": "Python 3"
    },
    "language_info": {
      "name": "python"
    }
  },
  "cells": [
    {
      "cell_type": "markdown",
      "source": [
        "#One random Solution\n",
        "\n"
      ],
      "metadata": {
        "id": "mK0cL3IuQUlC"
      }
    },
    {
      "cell_type": "code",
      "execution_count": 132,
      "metadata": {
        "id": "BViXtjvAatcF"
      },
      "outputs": [],
      "source": [
        "import numpy as np\n",
        "import random\n",
        "import copy\n",
        "import matplotlib.pyplot as plt\n",
        "import time\n",
        "import math"
      ]
    },
    {
      "cell_type": "code",
      "source": [
        "class Jssp:\n",
        "  def __init__(self, filename):\n",
        "    self.filename = filename\n",
        "    \n",
        "    with open(self.filename) as f:\n",
        "      self.n, self.m = [int(x) for x in f.readline().split()]\n",
        "      self.jobs = np.zeros((self.n,self.m, 2), dtype=int)\n",
        "      i = 0\n",
        "      for line in f:\n",
        "        self.jobs[i] = np.array([int(x) for x in line.split()]).reshape(self.m,2)\n",
        "        i +=1\n",
        "    self.mstart = np.zeros((self.m), dtype=int)\n",
        "    self.jend = np.zeros((self.m), dtype=int)\n",
        "    self.idxs = np.zeros((self.n), dtype=int)\n",
        "    self.makespan = 0\n",
        "\n",
        "    self.rep = [i for i in range(self.n)]*self.m\n",
        "    random.shuffle(self.rep)\n",
        "\n",
        "  def solve(self):\n",
        "    for e in self.rep:\n",
        "      i = self.idxs[e]\n",
        "      self.idxs[e] += 1\n",
        "      self.midx = self.jobs[e, i, 0]\n",
        "      self.time = self.jobs[e, i, 1]\n",
        "      self.mstart[self.midx] = max(self.mstart[self.midx], self.jend[i]) + self.time\n",
        "      self.jend[i] = self.mstart[self.midx]\n",
        "      \n",
        "      if self.mstart[self.midx] > self.makespan:\n",
        "        self.makespan = self.mstart[self.midx] \n",
        "\n",
        "  def makeSchedule(self):\n",
        "    self.mstart = np.zeros((self.m), dtype=int)\n",
        "    self.jend = np.zeros((self.m), dtype=int)\n",
        "    self.idxs = np.zeros((self.n), dtype=int)\n",
        "    self.schedule = np.zeros((self.m, self.makespan))\n",
        "\n",
        "    for e in self.rep:\n",
        "      i = self.idxs[e]\n",
        "      self.idxs[e] += 1\n",
        "      self.midx = self.jobs[e, i, 0]\n",
        "      self.time = self.jobs[e, i, 1]\n",
        "      self.mstart[self.midx] = max(self.mstart[self.midx], self.jend[i])\n",
        "      self.schedule[self.midx:(self.midx+1), self.mstart[self.midx]:self.mstart[self.midx] + self.time] = e+1\n",
        "      self.mstart[self.midx] += self.time\n",
        "      self.jend[i] = self.mstart[self.midx]"
      ],
      "metadata": {
        "id": "kH0ClY6DavH0"
      },
      "execution_count": 133,
      "outputs": []
    },
    {
      "cell_type": "code",
      "source": [
        "instances = [\"abz7.txt\",\"la24.txt\",\"swv15.txt\",\"yn4.txt\"]"
      ],
      "metadata": {
        "id": "TkjUFbOuezM4"
      },
      "execution_count": 134,
      "outputs": []
    },
    {
      "cell_type": "code",
      "source": [
        "jssp1 = Jssp(instances[0])\n",
        "jssp1.solve()\n",
        "jssp1.makeSchedule()\n",
        "plt.figure(figsize = (16,5))\n",
        "plt.imshow(jssp1.schedule, origin='lower', aspect='auto', interpolation='nearest', cmap='tab20c')"
      ],
      "metadata": {
        "colab": {
          "base_uri": "https://localhost:8080/",
          "height": 337
        },
        "id": "mSsWZGteaxs0",
        "outputId": "c32b9678-4eb1-41a1-91c8-06b8d9e974ff"
      },
      "execution_count": 135,
      "outputs": [
        {
          "output_type": "execute_result",
          "data": {
            "text/plain": [
              "<matplotlib.image.AxesImage at 0x7f75474f7190>"
            ]
          },
          "metadata": {},
          "execution_count": 135
        },
        {
          "output_type": "display_data",
          "data": {
            "text/plain": [
              "<Figure size 1152x360 with 1 Axes>"
            ],
            "image/png": "[encoded data removed]"
          },
          "metadata": {
            "needs_background": "light"
          }
        }
      ]
    },
    {
      "cell_type": "code",
      "source": [
        "jssp2 = Jssp(instances[1])\n",
        "jssp2.solve()\n",
        "jssp2.makeSchedule()\n",
        "plt.figure(figsize = (16,3))\n",
        "plt.imshow(jssp2.schedule, origin='lower', aspect='auto', interpolation='nearest', cmap='Paired')"
      ],
      "metadata": {
        "colab": {
          "base_uri": "https://localhost:8080/",
          "height": 228
        },
        "id": "5qjGUfUpfCKg",
        "outputId": "d6c4a2f6-3b33-4b4d-e0bc-58dfc0758104"
      },
      "execution_count": 136,
      "outputs": [
        {
          "output_type": "execute_result",
          "data": {
            "text/plain": [
              "<matplotlib.image.AxesImage at 0x7f7546eb2390>"
            ]
          },
          "metadata": {},
          "execution_count": 136
        },
        {
          "output_type": "display_data",
          "data": {
            "text/plain": [
              "<Figure size 1152x216 with 1 Axes>"
            ],
            "image/png": "[encoded data removed]"
          },
          "metadata": {
            "needs_background": "light"
          }
        }
      ]
    },
    {
      "cell_type": "code",
      "source": [
        "jssp3 = Jssp(instances[2])\n",
        "jssp3.solve()\n",
        "jssp3.makeSchedule()\n",
        "plt.figure(figsize = (16,3))\n",
        "plt.imshow(jssp3.schedule, origin='lower', aspect='auto', interpolation='nearest', cmap='Paired')"
      ],
      "metadata": {
        "colab": {
          "base_uri": "https://localhost:8080/",
          "height": 228
        },
        "id": "t7yAEZhtfCma",
        "outputId": "25dbfb79-8525-4d98-87b9-315a292f0ee0"
      },
      "execution_count": 137,
      "outputs": [
        {
          "output_type": "execute_result",
          "data": {
            "text/plain": [
              "<matplotlib.image.AxesImage at 0x7f7546e1d310>"
            ]
          },
          "metadata": {},
          "execution_count": 137
        },
        {
          "output_type": "display_data",
          "data": {
            "text/plain": [
              "<Figure size 1152x216 with 1 Axes>"
            ],
            "image/png": "[encoded data removed]"
          },
          "metadata": {
            "needs_background": "light"
          }
        }
      ]
    },
    {
      "cell_type": "code",
      "source": [
        "jssp4 = Jssp(instances[3])\n",
        "jssp4.solve()\n",
        "jssp4.makeSchedule()\n",
        "plt.figure(figsize = (16,5))\n",
        "plt.imshow(jssp4.schedule, origin='lower', aspect='auto', interpolation='nearest', cmap='tab20c')"
      ],
      "metadata": {
        "colab": {
          "base_uri": "https://localhost:8080/",
          "height": 337
        },
        "id": "Py0C1KrMfDLG",
        "outputId": "d4df1f9e-8afb-4959-8244-4ff27bea42a5"
      },
      "execution_count": 138,
      "outputs": [
        {
          "output_type": "execute_result",
          "data": {
            "text/plain": [
              "<matplotlib.image.AxesImage at 0x7f7546dfbf10>"
            ]
          },
          "metadata": {},
          "execution_count": 138
        },
        {
          "output_type": "display_data",
          "data": {
            "text/plain": [
              "<Figure size 1152x360 with 1 Axes>"
            ],
            "image/png": "[encoded data removed]"
          },
          "metadata": {
            "needs_background": "light"
          }
        }
      ]
    },
    {
      "cell_type": "markdown",
      "source": [
        "#Random Sampling - 3 minutes"
      ],
      "metadata": {
        "id": "FqxlDt3dibe4"
      }
    },
    {
      "cell_type": "code",
      "source": [
        "class JsspTimer:\n",
        "  def __init__(self, instance):\n",
        "    self.timefinish = time.time()+45\n",
        "    self.instance = instance\n",
        "    self.best = 10000\n",
        "    self.finalJssp = Jssp(instance)\n",
        "    self.mean = 0\n",
        "    self.arr = []\n",
        "    self.graph = []\n",
        "  def run(self):\n",
        "    while (time.time() < self.timefinish):\n",
        "      jssp = Jssp(self.instance)\n",
        "      jssp.solve()\n",
        "      if (self.best > jssp.makespan):\n",
        "        self.finalJssp = jssp\n",
        "        self.best = jssp.makespan\n",
        "\n",
        "      self.mean += jssp.makespan\n",
        "      self.arr.append(jssp.makespan)\n",
        "      self.graph.append(jssp.makespan)\n",
        "\n",
        "    self.graph.sort(reverse=True)\n",
        "    \n",
        "  def returnMean(self):\n",
        "    self.mean = self.mean/len(self.arr)\n",
        "    return int(self.mean)\n",
        "\n",
        "  def returnMed(self):\n",
        "    self.arr.sort()\n",
        "    if (len(self.arr) % 2):\n",
        "      return int((self.arr[int(len(self.arr)/2)] + self.arr[int(len(self.arr)/2)-1])/2)\n",
        "    else :\n",
        "      return int(self.arr[int(len(self.arr)/2)])\n",
        "\n",
        "  def returnSd(self):\n",
        "    self.sdSum = 0\n",
        "    for i in self.arr:\n",
        "      self.sdSum += pow(i-self.mean, 2)\n",
        "    return int(math.sqrt(self.sdSum/len(self.arr)))"
      ],
      "metadata": {
        "id": "dITFMsell99s"
      },
      "execution_count": 139,
      "outputs": []
    },
    {
      "cell_type": "code",
      "source": [
        "results = []"
      ],
      "metadata": {
        "id": "VhkY4CF9nOmg"
      },
      "execution_count": 140,
      "outputs": []
    },
    {
      "cell_type": "code",
      "source": [
        "for i in range(len(instances)):\n",
        "  res = JsspTimer(instances[i])\n",
        "  res.run()\n",
        "  res.finalJssp.makeSchedule()\n",
        "  results.insert(i, [res.finalJssp.schedule, \n",
        "                     res.best, \n",
        "                     res.returnMean(),\n",
        "                     res.returnMed(),\n",
        "                     res.returnSd(),\n",
        "                     res.finalJssp.rep,\n",
        "                     res.graph\n",
        "                     ])\n"
      ],
      "metadata": {
        "id": "1BWGTB9Uq6nc"
      },
      "execution_count": 144,
      "outputs": []
    },
    {
      "cell_type": "code",
      "source": [
        "print(results[0][5])\n",
        "plt.figure(figsize = (16,5))\n",
        "plt.imshow(results[0][0], origin='lower', aspect='auto', interpolation='nearest', cmap='tab20c')"
      ],
      "metadata": {
        "colab": {
          "base_uri": "https://localhost:8080/",
          "height": 375
        },
        "id": "3ErE43awrlpx",
        "outputId": "05240e47-7415-4e59-acaf-433db65f264c"
      },
      "execution_count": 145,
      "outputs": [
        {
          "output_type": "stream",
          "name": "stdout",
          "text": [
            "[10, 11, 10, 16, 18, 9, 18, 16, 0, 17, 12, 6, 12, 10, 9, 15, 14, 15, 19, 18, 17, 3, 15, 3, 9, 6, 0, 9, 19, 12, 4, 8, 12, 3, 6, 15, 7, 9, 16, 12, 7, 3, 13, 4, 18, 16, 16, 12, 16, 19, 18, 18, 12, 14, 9, 5, 0, 9, 4, 17, 19, 5, 19, 2, 10, 14, 10, 1, 8, 2, 10, 18, 19, 15, 9, 5, 5, 3, 8, 15, 17, 7, 6, 14, 1, 7, 15, 3, 11, 14, 17, 8, 3, 7, 0, 6, 10, 11, 2, 7, 17, 16, 11, 9, 15, 13, 7, 6, 6, 3, 6, 10, 9, 0, 10, 19, 1, 5, 19, 1, 1, 15, 18, 16, 8, 1, 0, 6, 6, 18, 19, 2, 6, 17, 3, 10, 6, 0, 2, 17, 13, 13, 0, 6, 4, 8, 5, 2, 10, 4, 2, 5, 1, 5, 15, 10, 12, 14, 14, 7, 7, 15, 3, 19, 16, 19, 19, 14, 12, 3, 13, 4, 1, 13, 17, 5, 13, 6, 7, 8, 1, 3, 4, 8, 11, 4, 2, 5, 9, 11, 13, 1, 14, 6, 4, 1, 1, 14, 1, 12, 14, 9, 1, 9, 17, 0, 7, 12, 5, 17, 7, 8, 9, 2, 11, 10, 18, 3, 8, 11, 14, 2, 4, 14, 0, 14, 0, 4, 8, 3, 4, 17, 10, 15, 16, 13, 5, 8, 18, 17, 19, 3, 13, 16, 7, 16, 9, 11, 16, 5, 15, 0, 10, 13, 15, 13, 7, 8, 8, 2, 18, 1, 12, 0, 7, 4, 17, 13, 18, 18, 16, 15, 4, 5, 11, 13, 11, 0, 16, 19, 11, 2, 4, 11, 11, 12, 13, 12, 8, 2, 12, 5, 17, 2, 2, 14, 19, 0, 18, 11]\n"
          ]
        },
        {
          "output_type": "execute_result",
          "data": {
            "text/plain": [
              "<matplotlib.image.AxesImage at 0x7f7546587c50>"
            ]
          },
          "metadata": {},
          "execution_count": 145
        },
        {
          "output_type": "display_data",
          "data": {
            "text/plain": [
              "<Figure size 1152x360 with 1 Axes>"
            ],
            "image/png": "[encoded data removed]"
          },
          "metadata": {
            "needs_background": "light"
          }
        }
      ]
    },
    {
      "cell_type": "code",
      "source": [
        "f = plt.figure()\n",
        "f.set_figwidth(16)\n",
        "f.set_figheight(4)\n",
        "pyplot.plot(results[0][6], '.-', marker ='x')\n",
        "pyplot.xlabel('Iteraciones')\n",
        "pyplot.ylabel('Resultados')\n",
        "pyplot.show()"
      ],
      "metadata": {
        "colab": {
          "base_uri": "https://localhost:8080/",
          "height": 279
        },
        "id": "E7MKalFu7ljI",
        "outputId": "ae1c0afd-ecda-43b6-99e1-988794857a9d"
      },
      "execution_count": 201,
      "outputs": [
        {
          "output_type": "display_data",
          "data": {
            "text/plain": [
              "<Figure size 1152x288 with 1 Axes>"
            ],
            "image/png": "[encoded data removed]"
          },
          "metadata": {
            "needs_background": "light"
          }
        }
      ]
    },
    {
      "cell_type": "code",
      "source": [
        "plt.figure(figsize = (16,3))\n",
        "plt.imshow(results[1][0], origin='lower', aspect='auto', interpolation='nearest', cmap='Paired')"
      ],
      "metadata": {
        "colab": {
          "base_uri": "https://localhost:8080/",
          "height": 228
        },
        "id": "eshOgbVbsLch",
        "outputId": "c624f415-e54d-42e5-f608-8a4548622edd"
      },
      "execution_count": 147,
      "outputs": [
        {
          "output_type": "execute_result",
          "data": {
            "text/plain": [
              "<matplotlib.image.AxesImage at 0x7f75464f0d50>"
            ]
          },
          "metadata": {},
          "execution_count": 147
        },
        {
          "output_type": "display_data",
          "data": {
            "text/plain": [
              "<Figure size 1152x216 with 1 Axes>"
            ],
            "image/png": "[encoded data removed]"
          },
          "metadata": {
            "needs_background": "light"
          }
        }
      ]
    },
    {
      "cell_type": "code",
      "source": [
        "f = plt.figure()\n",
        "f.set_figwidth(16)\n",
        "f.set_figheight(4)\n",
        "pyplot.plot(results[1][6], '.-', marker ='x')\n",
        "pyplot.xlabel('Iteraciones')\n",
        "pyplot.ylabel('Resultados')\n",
        "pyplot.show()"
      ],
      "metadata": {
        "colab": {
          "base_uri": "https://localhost:8080/",
          "height": 279
        },
        "id": "DRcr3jcL75nf",
        "outputId": "766bd562-a3c4-489e-fef8-fc5f0e0b34c4"
      },
      "execution_count": 200,
      "outputs": [
        {
          "output_type": "display_data",
          "data": {
            "text/plain": [
              "<Figure size 1152x288 with 1 Axes>"
            ],
            "image/png": "[encoded data removed]"
          },
          "metadata": {
            "needs_background": "light"
          }
        }
      ]
    },
    {
      "cell_type": "code",
      "source": [
        "plt.figure(figsize = (16,3))\n",
        "plt.imshow(results[2][0], origin='lower', aspect='auto', interpolation='nearest', cmap='Paired')"
      ],
      "metadata": {
        "colab": {
          "base_uri": "https://localhost:8080/",
          "height": 228
        },
        "id": "F6zFIhpLsLWU",
        "outputId": "42049d74-a5dc-46b4-fe3c-d324e3431569"
      },
      "execution_count": 149,
      "outputs": [
        {
          "output_type": "execute_result",
          "data": {
            "text/plain": [
              "<matplotlib.image.AxesImage at 0x7f75463cf1d0>"
            ]
          },
          "metadata": {},
          "execution_count": 149
        },
        {
          "output_type": "display_data",
          "data": {
            "text/plain": [
              "<Figure size 1152x216 with 1 Axes>"
            ],
            "image/png": "[encoded data removed]"
          },
          "metadata": {
            "needs_background": "light"
          }
        }
      ]
    },
    {
      "cell_type": "code",
      "source": [
        "f = plt.figure()\n",
        "f.set_figwidth(16)\n",
        "f.set_figheight(4)\n",
        "pyplot.plot(results[2][6], '.-', linewidth=1, markersize=5, marker ='x')\n",
        "pyplot.xlabel('Iteraciones')\n",
        "pyplot.ylabel('Resultados')\n",
        "pyplot.show()"
      ],
      "metadata": {
        "colab": {
          "base_uri": "https://localhost:8080/",
          "height": 279
        },
        "id": "fbrGF13j75-4",
        "outputId": "d40342e4-f6e8-42dc-951b-dbae678ad83b"
      },
      "execution_count": 197,
      "outputs": [
        {
          "output_type": "display_data",
          "data": {
            "text/plain": [
              "<Figure size 1152x288 with 1 Axes>"
            ],
            "image/png": "[encoded data removed]"
          },
          "metadata": {
            "needs_background": "light"
          }
        }
      ]
    },
    {
      "cell_type": "code",
      "source": [
        "plt.figure(figsize = (16,5))\n",
        "plt.imshow(results[3][0], origin='lower', aspect='auto', interpolation='nearest', cmap='tab20c')"
      ],
      "metadata": {
        "colab": {
          "base_uri": "https://localhost:8080/",
          "height": 337
        },
        "id": "LY8kKLOQsJW1",
        "outputId": "bc264257-7c8c-4f0c-aeab-083d8aa43dee"
      },
      "execution_count": 151,
      "outputs": [
        {
          "output_type": "execute_result",
          "data": {
            "text/plain": [
              "<matplotlib.image.AxesImage at 0x7f7546e581d0>"
            ]
          },
          "metadata": {},
          "execution_count": 151
        },
        {
          "output_type": "display_data",
          "data": {
            "text/plain": [
              "<Figure size 1152x360 with 1 Axes>"
            ],
            "image/png": "[encoded data removed]"
          },
          "metadata": {
            "needs_background": "light"
          }
        }
      ]
    },
    {
      "cell_type": "code",
      "source": [
        "f = plt.figure()\n",
        "f.set_figwidth(16)\n",
        "f.set_figheight(4)\n",
        "pyplot.plot(results[3][6], '.-', marker = 'x')\n",
        "pyplot.ylabel('Resultados')\n",
        "pyplot.xlabel('Iteraciones')\n",
        "pyplot.show()"
      ],
      "metadata": {
        "colab": {
          "base_uri": "https://localhost:8080/",
          "height": 280
        },
        "id": "hTYnYQkS77aW",
        "outputId": "04905004-0b68-40c7-df77-36a1c2c93c2a"
      },
      "execution_count": 198,
      "outputs": [
        {
          "output_type": "display_data",
          "data": {
            "text/plain": [
              "<Figure size 1152x288 with 1 Axes>"
            ],
            "image/png": "[encoded data removed]"
          },
          "metadata": {
            "needs_background": "light"
          }
        }
      ]
    },
    {
      "cell_type": "markdown",
      "source": [
        "##Results without Random Sampling"
      ],
      "metadata": {
        "id": "1p6ED1pHuCBh"
      }
    },
    {
      "cell_type": "code",
      "source": [
        "print(\"Instance\\tMakespan\")\n",
        "print(\"{}\\t\\t{}\".format(instances[0].replace(\".txt\", \"\"), jssp1.makespan))\n",
        "print(\"{}\\t\\t{}\".format(instances[1].replace(\".txt\", \"\"), jssp2.makespan))\n",
        "print(\"{}\\t\\t{}\".format(instances[2].replace(\".txt\", \"\"), jssp3.makespan))\n",
        "print(\"{}\\t\\t{}\".format(instances[3].replace(\".txt\", \"\"), jssp4.makespan))"
      ],
      "metadata": {
        "colab": {
          "base_uri": "https://localhost:8080/"
        },
        "id": "nGhSLn8Esukj",
        "outputId": "d1b3984b-0b7e-4259-f584-4e95787b4d14"
      },
      "execution_count": 153,
      "outputs": [
        {
          "output_type": "stream",
          "name": "stdout",
          "text": [
            "Instance\tMakespan\n",
            "abz7\t\t2649\n",
            "la24\t\t3564\n",
            "swv15\t\t7317\n",
            "yn4\t\t3855\n"
          ]
        }
      ]
    },
    {
      "cell_type": "markdown",
      "source": [
        "##Results with Random Sampling"
      ],
      "metadata": {
        "id": "L4WqUnuGuFY6"
      }
    },
    {
      "cell_type": "code",
      "source": [
        "print(\"Instance\\tBest\\tMean\\tMed\\tsd\")\n",
        "print(\"{}\\t\\t{}\\t{}\\t{}\\t{}\".format(instances[0].replace(\".txt\", \"\"), results[0][1], results[0][2], results[0][3], results[0][4]))\n",
        "print(\"{}\\t\\t{}\\t{}\\t{}\\t{}\".format(instances[1].replace(\".txt\", \"\"), results[1][1], results[1][2], results[1][3], results[1][4]))\n",
        "print(\"{}\\t\\t{}\\t{}\\t{}\\t{}\".format(instances[2].replace(\".txt\", \"\"), results[2][1], results[2][2], results[2][3], results[2][4]))\n",
        "print(\"{}\\t\\t{}\\t{}\\t{}\\t{}\".format(instances[3].replace(\".txt\", \"\"), results[3][1], results[3][2], results[3][3], results[3][4]))"
      ],
      "metadata": {
        "colab": {
          "base_uri": "https://localhost:8080/"
        },
        "id": "_p9rOyZrsvMz",
        "outputId": "38ecb4d5-c3b8-4526-be0a-015fc62528d3"
      },
      "execution_count": 154,
      "outputs": [
        {
          "output_type": "stream",
          "name": "stdout",
          "text": [
            "Instance\tBest\tMean\tMed\tsd\n",
            "abz7\t\t1999\t2633\t2629\t183\n",
            "la24\t\t2267\t3263\t3253\t279\n",
            "swv15\t\t6651\t7616\t7605\t297\n",
            "yn4\t\t2853\t3762\t3754\t258\n"
          ]
        }
      ]
    },
    {
      "cell_type": "markdown",
      "source": [
        "#Simulated Annealing - Sin ser utilizado..."
      ],
      "metadata": {
        "id": "FBIRoHSK2o2A"
      }
    },
    {
      "cell_type": "code",
      "source": [
        "from numpy import asarray\n",
        "from numpy import exp\n",
        "from numpy.random import randn\n",
        "from numpy.random import rand\n",
        "from numpy.random import seed\n",
        "from matplotlib import pyplot\n",
        "\n",
        "class Simulated_Annealing:\n",
        "  def objective(self, x):\n",
        "    return x[0]**2.0\n",
        "\n",
        "  def simulated_annealing(self, objective, bounds, n_iterations, step_size, temp):\n",
        "    best = bounds[:, 0] + rand(len(bounds)) * (bounds[:, 1] - bounds[:, 0])\n",
        "    best_eval = objective(best)\n",
        "    curr, curr_eval = best, best_eval\n",
        "    scores = list()\n",
        "\n",
        "    for i in range(n_iterations):\n",
        "      candidate = curr + randn(len(bounds)) * step_size\n",
        "      candidate_eval = objective(candidate)\n",
        "      if candidate_eval < best_eval:\n",
        "        best, best_eval = candidate, candidate_eval\n",
        "        scores.append(best_eval)\n",
        "        print('>%d f(%s) = %.5f' % (i, best, best_eval))\n",
        "      diff = candidate_eval - curr_eval\n",
        "      t = temp / float(i + 1)\n",
        "      metropolis = exp(-diff / t)\n",
        "      if diff < 0 or rand() < metropolis:\n",
        "        curr, curr_eval = candidate, candidate_eval\n",
        "    return [best, best_eval, scores]\n",
        "\n",
        "seed(1)\n",
        "bounds = asarray([[1500.0, 3500.0]])\n",
        "n_iterations = 1000\n",
        "step_size = 2\n",
        "temp = 10\n",
        "best, score, scores = simulated_annealing(objective, bounds, n_iterations, step_size, temp)"
      ],
      "metadata": {
        "id": "CcddieQ92nIf"
      },
      "execution_count": null,
      "outputs": []
    },
    {
      "cell_type": "markdown",
      "source": [
        "#Genetic algorithm"
      ],
      "metadata": {
        "id": "7McOYEPU60Z0"
      }
    },
    {
      "cell_type": "code",
      "source": [
        "from os import kill\n",
        "class Genetic:\n",
        "\n",
        "  def __init__(self,num_data,num_fitnes,file):\n",
        "    self.filename=file\n",
        "    self.num_data=num_data\n",
        "    self.num_fitnes=num_fitnes\n",
        "\n",
        "    self.jssp = Jssp(file)\n",
        "\n",
        "    with open(self.filename) as f:\n",
        "      self.n, self.m = [int(x) for x in f.readline().split()]\n",
        "    self.arr=self.generateMatrixAleatorio(self.num_data,self.n,self.m) #llenar el arr con el perr\n",
        "\n",
        "  def generateMatrixAleatorio(self,size_array,n,m):\n",
        "    arr=[]\n",
        "    for k in range(size_array):\n",
        "      rep = []\n",
        "      for i in range(n):\n",
        "        rep.extend(np.full(m,i))\n",
        "      np.random.shuffle(rep)\n",
        "      arr.append(rep)\n",
        "    return arr\n",
        "\n",
        "  def generateArrayAll(self,n,m):\n",
        "    rep = []\n",
        "    for i in range(n):\n",
        "      rep.extend(np.full(m,i))\n",
        "      np.random.shuffle(rep)\n",
        "    return rep\n",
        "\n",
        "  def run(self):\n",
        "    self.timefinish = time.time()+45\n",
        "    \n",
        "    while (time.time() < self.timefinish):\n",
        "      weight=[]\n",
        "      weightxxx=[]\n",
        "      for j in range(self.num_data):\n",
        "        self.jssp = Jssp(self.filename)\n",
        "        self.jssp.solve()\n",
        "        aux = self.jssp.makespan\n",
        "        weight.append(aux)\n",
        "        weightxxx.append(aux)\n",
        "      \n",
        "      auxweight=weight\n",
        "      indexweight=[]\n",
        "      for j in range(self.num_fitnes):\n",
        "        indexweight.append(auxweight.index(min(auxweight)))\n",
        "        auxweight.insert(auxweight.index(min(auxweight)),2000)\n",
        "        auxweight.remove(min(auxweight))\n",
        "\n",
        "      auxsum=0\n",
        "      for j in range(len(indexweight)):\n",
        "        auxsum+=weightxxx[indexweight[j]]\n",
        "\n",
        "      arrNew=[]\n",
        "      counter=0\n",
        "      for k in range(self.num_data-1):\n",
        "        auxarr1=[]\n",
        "        perr=self.generateArrayAll(self.n,self.m)\n",
        "        size=random.randint(1,(self.n*self.m)-1)\n",
        "        for j in range(size):\n",
        "          auxarr1.append(self.arr[indexweight[counter]][j])\n",
        "        for j in range(size):\n",
        "          perr.remove(auxarr1[j])\n",
        "        arrNew.append(auxarr1+perr)\n",
        "        counter+=1\n",
        "        if(counter==6):\n",
        "          counter=0\n",
        "      arrNew.append(self.arr[indexweight[0]])\n",
        "      self.arr=arrNew\n",
        "\n",
        "  def returnJssp(self):\n",
        "    return self.jssp"
      ],
      "metadata": {
        "id": "McXldo9rLRWK"
      },
      "execution_count": 162,
      "outputs": []
    },
    {
      "cell_type": "code",
      "source": [
        "genetic1 = Genetic(600,100,instances[0])"
      ],
      "metadata": {
        "id": "nPivmSQTzZgu"
      },
      "execution_count": 163,
      "outputs": []
    },
    {
      "cell_type": "code",
      "source": [
        "genetic1.run()\n",
        "genetic1.jssp.makeSchedule()\n",
        "plt.figure(figsize = (16,5))\n",
        "plt.imshow(genetic1.jssp.schedule, origin='lower', aspect='auto', interpolation='nearest', cmap='tab20c')"
      ],
      "metadata": {
        "colab": {
          "base_uri": "https://localhost:8080/",
          "height": 337
        },
        "id": "H1onZvYBARqU",
        "outputId": "ab6eb62b-8e89-4e22-9c55-754b415e0dc2"
      },
      "execution_count": 167,
      "outputs": [
        {
          "output_type": "execute_result",
          "data": {
            "text/plain": [
              "<matplotlib.image.AxesImage at 0x7f754e687d90>"
            ]
          },
          "metadata": {},
          "execution_count": 167
        },
        {
          "output_type": "display_data",
          "data": {
            "text/plain": [
              "<Figure size 1152x360 with 1 Axes>"
            ],
            "image/png": "[encoded data removed]"
          },
          "metadata": {
            "needs_background": "light"
          }
        }
      ]
    },
    {
      "cell_type": "code",
      "source": [
        "genetic2 = Genetic(600,100,instances[1])"
      ],
      "metadata": {
        "id": "yZ34Kz0eAKUL"
      },
      "execution_count": 168,
      "outputs": []
    },
    {
      "cell_type": "code",
      "source": [
        "genetic2.run()\n",
        "genetic2.jssp.makeSchedule()\n",
        "plt.figure(figsize = (16,3))\n",
        "plt.imshow(genetic2.jssp.schedule, origin='lower', aspect='auto', interpolation='nearest', cmap='Paired')"
      ],
      "metadata": {
        "colab": {
          "base_uri": "https://localhost:8080/",
          "height": 228
        },
        "id": "txrHBRyXAR7n",
        "outputId": "b0f1ca3c-f6b0-433a-dd6d-c4f92b4b9c18"
      },
      "execution_count": 170,
      "outputs": [
        {
          "output_type": "execute_result",
          "data": {
            "text/plain": [
              "<matplotlib.image.AxesImage at 0x7f754fd2bb10>"
            ]
          },
          "metadata": {},
          "execution_count": 170
        },
        {
          "output_type": "display_data",
          "data": {
            "text/plain": [
              "<Figure size 1152x216 with 1 Axes>"
            ],
            "image/png": "[encoded data removed]"
          },
          "metadata": {
            "needs_background": "light"
          }
        }
      ]
    },
    {
      "cell_type": "code",
      "source": [
        "genetic3 = Genetic(600,100,instances[2])"
      ],
      "metadata": {
        "id": "8GMujSYjAKtc"
      },
      "execution_count": 169,
      "outputs": []
    },
    {
      "cell_type": "code",
      "source": [
        "genetic3.run()\n",
        "genetic3.jssp.makeSchedule()\n",
        "plt.figure(figsize = (16,3))\n",
        "plt.imshow(genetic3.jssp.schedule, origin='lower', aspect='auto', interpolation='nearest', cmap='Paired')"
      ],
      "metadata": {
        "colab": {
          "base_uri": "https://localhost:8080/",
          "height": 228
        },
        "id": "3N-QqcANASXt",
        "outputId": "851a129a-f0f7-4db7-e8e9-47b0714d6d58"
      },
      "execution_count": 171,
      "outputs": [
        {
          "output_type": "execute_result",
          "data": {
            "text/plain": [
              "<matplotlib.image.AxesImage at 0x7f754e85f850>"
            ]
          },
          "metadata": {},
          "execution_count": 171
        },
        {
          "output_type": "display_data",
          "data": {
            "text/plain": [
              "<Figure size 1152x216 with 1 Axes>"
            ],
            "image/png": "[encoded data removed]"
          },
          "metadata": {
            "needs_background": "light"
          }
        }
      ]
    },
    {
      "cell_type": "code",
      "source": [
        "genetic4 = Genetic(600,100,instances[3])"
      ],
      "metadata": {
        "id": "un9f8iHtAK9p"
      },
      "execution_count": 172,
      "outputs": []
    },
    {
      "cell_type": "code",
      "source": [
        "genetic4.run()\n",
        "genetic4.jssp.makeSchedule()\n",
        "plt.figure(figsize = (16,5))\n",
        "plt.imshow(genetic4.jssp.schedule, origin='lower', aspect='auto', interpolation='nearest', cmap='tab20c')"
      ],
      "metadata": {
        "colab": {
          "base_uri": "https://localhost:8080/",
          "height": 337
        },
        "id": "70XlKqdtAStW",
        "outputId": "41ed31aa-a6ab-4cba-859c-c60e5cc8f637"
      },
      "execution_count": 173,
      "outputs": [
        {
          "output_type": "execute_result",
          "data": {
            "text/plain": [
              "<matplotlib.image.AxesImage at 0x7f75507bad10>"
            ]
          },
          "metadata": {},
          "execution_count": 173
        },
        {
          "output_type": "display_data",
          "data": {
            "text/plain": [
              "<Figure size 1152x360 with 1 Axes>"
            ],
            "image/png": "[encoded data removed]"
          },
          "metadata": {
            "needs_background": "light"
          }
        }
      ]
    },
    {
      "cell_type": "markdown",
      "source": [
        "One Random"
      ],
      "metadata": {
        "id": "6rAQI8YDDe7R"
      }
    },
    {
      "cell_type": "code",
      "source": [
        "print(\"Instance\\tMakespan\")\n",
        "print(\"{}\\t\\t{}\".format(instances[0].replace(\".txt\", \"\"), jssp1.makespan))\n",
        "print(\"{}\\t\\t{}\".format(instances[1].replace(\".txt\", \"\"), jssp2.makespan))\n",
        "print(\"{}\\t\\t{}\".format(instances[2].replace(\".txt\", \"\"), jssp3.makespan))\n",
        "print(\"{}\\t\\t{}\".format(instances[3].replace(\".txt\", \"\"), jssp4.makespan))"
      ],
      "metadata": {
        "id": "zly1yrMXCRtg",
        "colab": {
          "base_uri": "https://localhost:8080/"
        },
        "outputId": "7831cc5e-6d97-4be2-ff37-28f05092b2e1"
      },
      "execution_count": 174,
      "outputs": [
        {
          "output_type": "stream",
          "name": "stdout",
          "text": [
            "Instance\tMakespan\n",
            "abz7\t\t2649\n",
            "la24\t\t3564\n",
            "swv15\t\t7317\n",
            "yn4\t\t3855\n"
          ]
        }
      ]
    },
    {
      "cell_type": "markdown",
      "source": [
        "Random Sampling"
      ],
      "metadata": {
        "id": "EexyAnyTDbWF"
      }
    },
    {
      "cell_type": "code",
      "source": [
        "print(\"Instance\\tBest\\tMean\\tMed\\tsd\")\n",
        "print(\"{}\\t\\t{}\\t{}\\t{}\\t{}\".format(instances[0].replace(\".txt\", \"\"), results[0][1], results[0][2], results[0][3], results[0][4]))\n",
        "print(\"{}\\t\\t{}\\t{}\\t{}\\t{}\".format(instances[1].replace(\".txt\", \"\"), results[1][1], results[1][2], results[1][3], results[1][4]))\n",
        "print(\"{}\\t\\t{}\\t{}\\t{}\\t{}\".format(instances[2].replace(\".txt\", \"\"), results[2][1], results[2][2], results[2][3], results[2][4]))\n",
        "print(\"{}\\t\\t{}\\t{}\\t{}\\t{}\".format(instances[3].replace(\".txt\", \"\"), results[3][1], results[3][2], results[3][3], results[3][4]))"
      ],
      "metadata": {
        "colab": {
          "base_uri": "https://localhost:8080/"
        },
        "id": "rn11hZNeDZWS",
        "outputId": "8eba4e8b-363a-4430-ed3d-e520fba61fe7"
      },
      "execution_count": 175,
      "outputs": [
        {
          "output_type": "stream",
          "name": "stdout",
          "text": [
            "Instance\tBest\tMean\tMed\tsd\n",
            "abz7\t\t1999\t2633\t2629\t183\n",
            "la24\t\t2267\t3263\t3253\t279\n",
            "swv15\t\t6651\t7616\t7605\t297\n",
            "yn4\t\t2853\t3762\t3754\t258\n"
          ]
        }
      ]
    },
    {
      "cell_type": "markdown",
      "source": [
        "Genetic"
      ],
      "metadata": {
        "id": "oQBbACgUDaLi"
      }
    },
    {
      "cell_type": "code",
      "source": [
        "print(\"Instance\\tMakespan\")\n",
        "print(\"{}\\t\\t{}\".format(instances[0].replace(\".txt\", \"\"), genetic1.jssp.makespan))\n",
        "print(\"{}\\t\\t{}\".format(instances[1].replace(\".txt\", \"\"), genetic2.jssp.makespan))\n",
        "print(\"{}\\t\\t{}\".format(instances[2].replace(\".txt\", \"\"), genetic3.jssp.makespan))\n",
        "print(\"{}\\t\\t{}\".format(instances[3].replace(\".txt\", \"\"), genetic4.jssp.makespan))"
      ],
      "metadata": {
        "colab": {
          "base_uri": "https://localhost:8080/"
        },
        "id": "DIfFGstr_dZF",
        "outputId": "d3d726e3-a5de-443d-be26-f81d34109aeb"
      },
      "execution_count": 176,
      "outputs": [
        {
          "output_type": "stream",
          "name": "stdout",
          "text": [
            "Instance\tMakespan\n",
            "abz7\t\t2665\n",
            "la24\t\t3213\n",
            "swv15\t\t8113\n",
            "yn4\t\t3830\n"
          ]
        }
      ]
    },
    {
      "cell_type": "markdown",
      "source": [
        "#Conclusion\n",
        "\n",
        "####En conclusión, a pesar de no haber podido resolver el algoritmo genetico para que considere el valor \"rep\" de cada JSSP como un genoma (y por eso los valores obtenidos en el \"algoritmo genetico\"), se puede llegar a la conclusión que siendo un algoritmo de optimización, si realmente funcionara, encontraría mejores resultados que el Random Sampling. Sin embargo, para mis soluciones, lo más rapido y efectivo ha sido el Random Sampling, sin embargo, repito, el Algoritmo Genetico, según sus características, sería la mejor solución para el problema, si tan solo lograra combinar para que funcione el \"rep\" y el genoma, dejando claro que debe tener la misma cantidad de trabajos y maquinas como la instancia, lo más probable es que esta sea la solución optima al problema.\n"
      ],
      "metadata": {
        "id": "EXqSZxQQdPhr"
      }
    }
  ]
}